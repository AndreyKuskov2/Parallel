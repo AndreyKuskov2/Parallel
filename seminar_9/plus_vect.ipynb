{
 "cells": [
  {
   "cell_type": "code",
   "execution_count": 1,
   "id": "d8274921",
   "metadata": {},
   "outputs": [],
   "source": [
    "import numpy as np\n",
    "import pyopencl as cl\n",
    "import numpy.linalg as la"
   ]
  },
  {
   "cell_type": "code",
   "execution_count": 2,
   "id": "c36ca5c5",
   "metadata": {},
   "outputs": [],
   "source": [
    "vector_dimension = 100"
   ]
  },
  {
   "cell_type": "code",
   "execution_count": 3,
   "id": "792310bc",
   "metadata": {},
   "outputs": [],
   "source": [
    "vector_a = np.random.randint(vector_dimension,size=vector_dimension) \n",
    "vector_b = np.random.randint(vector_dimension,size=vector_dimension)"
   ]
  },
  {
   "cell_type": "code",
   "execution_count": 4,
   "id": "a4ba69cb",
   "metadata": {},
   "outputs": [],
   "source": [
    "platform = cl.get_platforms()[0]\n",
    "device = platform.get_devices()[0]\n",
    "context = cl.Context([device])\n",
    "queue = cl.CommandQueue(context)"
   ]
  },
  {
   "cell_type": "code",
   "execution_count": 5,
   "id": "befe220b",
   "metadata": {},
   "outputs": [],
   "source": [
    "mf = cl.mem_flags \n",
    "a_g = cl.Buffer(context, mf.READ_ONLY | mf.COPY_HOST_PTR, hostbuf=vector_a) \n",
    "b_g = cl.Buffer(context, mf.READ_ONLY | mf.COPY_HOST_PTR, hostbuf=vector_b) "
   ]
  },
  {
   "cell_type": "code",
   "execution_count": 6,
   "id": "243ccc3e",
   "metadata": {},
   "outputs": [],
   "source": [
    "program = cl.Program(context, \"\"\" \n",
    "__kernel void vectorSum(__global const int *a_g, __global const int *b_g, __global int *res_g) { \n",
    "  int gid = get_global_id(0); \n",
    "  res_g[gid] = a_g[gid] + b_g[gid]; \n",
    "} \n",
    "\"\"\").build()"
   ]
  },
  {
   "cell_type": "code",
   "execution_count": 7,
   "id": "2b7277b5",
   "metadata": {},
   "outputs": [],
   "source": [
    "res_g = cl.Buffer(context, mf.WRITE_ONLY, vector_a.nbytes)"
   ]
  },
  {
   "cell_type": "code",
   "execution_count": 8,
   "id": "75dcef6f",
   "metadata": {},
   "outputs": [
    {
     "data": {
      "text/plain": [
       "<pyopencl._cl.Event at 0x16a8e300810>"
      ]
     },
     "execution_count": 8,
     "metadata": {},
     "output_type": "execute_result"
    }
   ],
   "source": [
    "program.vectorSum(queue, vector_a.shape, None, a_g, b_g, res_g)"
   ]
  },
  {
   "cell_type": "code",
   "execution_count": 9,
   "id": "abf45071",
   "metadata": {},
   "outputs": [],
   "source": [
    "res_np = np.empty_like(vector_a)"
   ]
  },
  {
   "cell_type": "code",
   "execution_count": 10,
   "id": "c24fed00",
   "metadata": {},
   "outputs": [
    {
     "data": {
      "text/plain": [
       "<pyopencl._cl.NannyEvent at 0x16a8e3e4810>"
      ]
     },
     "execution_count": 10,
     "metadata": {},
     "output_type": "execute_result"
    }
   ],
   "source": [
    "cl.enqueue_copy(queue, res_np, res_g)"
   ]
  },
  {
   "cell_type": "code",
   "execution_count": 11,
   "id": "b6d89b05",
   "metadata": {},
   "outputs": [
    {
     "name": "stdout",
     "output_type": "stream",
     "text": [
      "PyOPENCL SUM OF TWO VECTORS\n",
      "Platform Selected = NVIDIA CUDA\n",
      "Device Selected = NVIDIA GeForce GTX 1650\n",
      "VECTOR LENGTH = 100\n",
      "INPUT VECTOR A\n",
      "[60 58 29 73 93 97 25 93 91 14 40 89  1  3 17 76  3 58 65 65 99 13 39 87\n",
      " 70 56 91 46  5 65 13 54 91  0 45 64 59 74 99 65 30 49 13 13 96 77 93 15\n",
      "  5 56 79 93 95 70 99 12 92 17 63 55 47 52 23 71 71 33 57 26 20 74 31 78\n",
      "  2  3 75 58 98 33 87 82 20 36 24 20 25 24  6  5 44 28 48 18 53  4 18 21\n",
      " 80  9  3  7]\n",
      "INPUT VECTOR B\n",
      "[86 24 95 17  6 93  6 83 60 97 40 85 74 40 88  1 17 18 76 98 80  2 97 32\n",
      " 79 25 49 21 17 19 49 18  9 78 67  4 26 47 74 48 99 93 13 80 99 68 67 65\n",
      "  6 81 67  0 44 25 66 37 37  8 76 39 15 27 66 23 92 52 98 54 37 15 10 48\n",
      " 20 79 87 85 89 54 65 80 83 46 96 14 10 37 69 11 34 74 79 92 15 57  9 70\n",
      " 67  9 58  0]\n",
      "OUTPUT VECTOR RESULT A + B \n",
      "[146  82 124  90  99 190  31 176 151 111  80 174  75  43 105  77  20  76\n",
      " 141 163 179  15 136 119 149  81 140  67  22  84  62  72 100  78 112  68\n",
      "  85 121 173 113 129 142  26  93 195 145 160  80  11 137 146  93 139  95\n",
      " 165  49 129  25 139  94  62  79  89  94 163  85 155  80  57  89  41 126\n",
      "  22  82 162 143 187  87 152 162 103  82 120  34  35  61  75  16  78 102\n",
      " 127 110  68  61  27  91 147  18  61   7]\n"
     ]
    }
   ],
   "source": [
    "print (\"PyOPENCL SUM OF TWO VECTORS\")\n",
    "print (\"Platform Selected = %s\" %platform.name )\n",
    "print (\"Device Selected = %s\" %device.name)\n",
    "print (\"VECTOR LENGTH = %s\" %vector_dimension)\n",
    "print (\"INPUT VECTOR A\")\n",
    "print (vector_a)\n",
    "print (\"INPUT VECTOR B\")\n",
    "print (vector_b)\n",
    "print (\"OUTPUT VECTOR RESULT A + B \")\n",
    "print (res_np)"
   ]
  },
  {
   "cell_type": "code",
   "execution_count": 12,
   "id": "a4d544ec",
   "metadata": {},
   "outputs": [],
   "source": [
    "assert(la.norm(res_np - (vector_a + vector_b))) < 1e-5"
   ]
  },
  {
   "cell_type": "code",
   "execution_count": null,
   "id": "58bc16c2",
   "metadata": {},
   "outputs": [],
   "source": []
  }
 ],
 "metadata": {
  "kernelspec": {
   "display_name": "Python 3 (ipykernel)",
   "language": "python",
   "name": "python3"
  },
  "language_info": {
   "codemirror_mode": {
    "name": "ipython",
    "version": 3
   },
   "file_extension": ".py",
   "mimetype": "text/x-python",
   "name": "python",
   "nbconvert_exporter": "python",
   "pygments_lexer": "ipython3",
   "version": "3.9.7"
  }
 },
 "nbformat": 4,
 "nbformat_minor": 5
}
